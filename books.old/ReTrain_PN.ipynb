{
 "cells": [
  {
   "cell_type": "markdown",
   "id": "a80d3d90-4b50-45ce-9755-ffc82bf9ec39",
   "metadata": {},
   "source": [
    "# ReTrain PhaseNet\n",
    "\n",
    "Retrain PN as in the paper. Following the up-to-date _SeisBench_ notebook\n",
    "\n",
    "--------------------------------------------------------------------"
   ]
  },
  {
   "cell_type": "code",
   "execution_count": 1,
   "id": "469c384c-f857-415a-a4d1-fb348eca6d20",
   "metadata": {},
   "outputs": [
    {
     "name": "stdout",
     "output_type": "stream",
     "text": [
      " SB version:  0.4.0\n",
      "OBS version:  1.4.0\n"
     ]
    }
   ],
   "source": [
    "import os\n",
    "import sys\n",
    "import numpy as np\n",
    "import matplotlib.pyplot as plt\n",
    "from pathlib import Path\n",
    "\n",
    "import obspy\n",
    "import seisbench as sb\n",
    "import seisbench.models as sbm\n",
    "\n",
    "import dkpn.core as dkcore\n",
    "import dkpn.train as dktrain\n",
    "\n",
    "print(\" SB version:  %s\" % sb.__version__)\n",
    "print(\"OBS version:  %s\" % obspy.__version__)"
   ]
  },
  {
   "cell_type": "code",
   "execution_count": 2,
   "id": "30654dd5-48fc-4869-a6e4-e3dacf262f5b",
   "metadata": {},
   "outputs": [],
   "source": [
    "# ---------------------------------------------\n",
    "DATASET_TRAIN = \"ETHZ\"\n",
    "DATASET_TEST = \"ETHZ\"\n",
    "DATASET_SIZE = \"Nano\"\n",
    "RANDOM_SEED = 42\n",
    "\n",
    "EPOCHS = 25\n",
    "LEARNING_RATE = 1e-3\n",
    "BATCH_SIZE = 32\n",
    "\n",
    "# ---------------------------------------------\n",
    "MODEL_NAME = \"PN_TrainDataSet_%s_Size_%s_Rnd_%d_Epochs_%d_LR_%06.4f_Batch_%d\" % (\n",
    "                    DATASET_TRAIN, DATASET_SIZE, RANDOM_SEED, EPOCHS, LEARNING_RATE, BATCH_SIZE)\n",
    "\n",
    "STORE_DIR_MODEL = Path(MODEL_NAME)\n",
    "if not STORE_DIR_MODEL.is_dir():\n",
    "    STORE_DIR_MODEL.mkdir()"
   ]
  },
  {
   "cell_type": "markdown",
   "id": "64dd77df-8c66-44fd-9ce4-5a1123c7e37d",
   "metadata": {},
   "source": [
    "### SELECT DATASET and SIZE\n",
    "\n",
    "Here you can decide to load the same dataset for _In-Domain_ tests, or a different one for _Cross-Domain_ testing."
   ]
  },
  {
   "cell_type": "code",
   "execution_count": 3,
   "id": "be0b1f53-d2d5-4114-95ce-caa0637fd806",
   "metadata": {},
   "outputs": [
    {
     "name": "stderr",
     "output_type": "stream",
     "text": [
      "2023-06-09 14:05:00,875 | seisbench | WARNING | Check available storage and memory before downloading and general use of ETHZ dataset. Dataset size: waveforms.hdf5 ~22Gb, metadata.csv ~13Mb\n"
     ]
    },
    {
     "name": "stdout",
     "output_type": "stream",
     "text": [
      "Selecting DATASET TRAIN/DEV: ETHZ\n",
      "Selecting DATASET TEST:      ETHZ\n",
      "Selecting DATASET SIZE:      NANO\n"
     ]
    },
    {
     "name": "stderr",
     "output_type": "stream",
     "text": [
      "2023-06-09 14:05:01,172 | seisbench | WARNING | Check available storage and memory before downloading and general use of ETHZ dataset. Dataset size: waveforms.hdf5 ~22Gb, metadata.csv ~13Mb\n"
     ]
    },
    {
     "name": "stdout",
     "output_type": "stream",
     "text": [
      "TRAIN samples ETHZ:  734\n",
      "  DEV samples ETHZ:  73\n",
      " TEST samples ETHZ:  35936\n"
     ]
    }
   ],
   "source": [
    "(dataset_train, dataset_test) = dktrain.select_database_and_size(\n",
    "                                    DATASET_TRAIN, DATASET_TEST, DATASET_SIZE, RANDOM_SEED=RANDOM_SEED)\n",
    "train = dataset_train.train()\n",
    "dev = dataset_train.dev()\n",
    "test = dataset_test.test()\n",
    "\n",
    "print(\"TRAIN samples %s:  %d\" % (DATASET_TRAIN, len(train)))\n",
    "print(\"  DEV samples %s:  %d\" % (DATASET_TRAIN, len(dev)))\n",
    "print(\" TEST samples %s:  %d\" % (DATASET_TEST, len(test)))"
   ]
  },
  {
   "cell_type": "markdown",
   "id": "63e2cdb4-1c11-4103-8451-b47836609b79",
   "metadata": {},
   "source": [
    "-----------------------------------\n",
    "\n",
    "# INITIALIZE PN\n",
    "\n",
    "In this slot we initialize the picker and prepare "
   ]
  },
  {
   "cell_type": "code",
   "execution_count": 4,
   "id": "59b664c5-f9d9-4b51-9f41-172be4aac39d",
   "metadata": {},
   "outputs": [],
   "source": [
    "mypn = sbm.PhaseNet()\n",
    "mypn.cuda();"
   ]
  },
  {
   "cell_type": "code",
   "execution_count": 5,
   "id": "3032b9c6-e790-4850-a029-46ca5ee62ff8",
   "metadata": {},
   "outputs": [
    {
     "name": "stdout",
     "output_type": "stream",
     "text": [
      "Epoch 1\n",
      "-------------------------------\n",
      "loss: 1.316237  [    0/  734]\n",
      "loss: 1.242138  [  160/  734]\n",
      "loss: 1.164628  [  320/  734]\n",
      "loss: 1.103078  [  480/  734]\n",
      "loss: 1.069648  [  640/  734]\n",
      "Test avg loss: 1.114880\n",
      "\n",
      "Epoch 2\n",
      "-------------------------------\n",
      "loss: 1.034132  [    0/  734]\n",
      "loss: 0.983595  [  160/  734]\n",
      "loss: 0.954165  [  320/  734]\n",
      "loss: 0.909864  [  480/  734]\n",
      "loss: 0.884878  [  640/  734]\n",
      "Test avg loss: 0.856643\n",
      "\n",
      "Epoch 3\n",
      "-------------------------------\n",
      "loss: 0.863849  [    0/  734]\n",
      "loss: 0.840413  [  160/  734]\n",
      "loss: 0.802099  [  320/  734]\n",
      "loss: 0.781252  [  480/  734]\n",
      "loss: 0.753789  [  640/  734]\n",
      "Test avg loss: 0.719316\n",
      "\n"
     ]
    }
   ],
   "source": [
    "TRAIN_CLASS = dktrain.TrainHelp_PhaseNet(\n",
    "                mypn,  # It will contains the default args for StreamCF calculations!!!\n",
    "                train,\n",
    "                dev,\n",
    "                test,\n",
    "                augmentations_par = {\n",
    "                    \"amp_norm_type\": \"std\",\n",
    "                    \"window_strategy\": \"move\",  # \"pad\"\n",
    "                    \"final_windowlength\": 3001,\n",
    "                    \"fp_stabilization\": 400,\n",
    "                    \"sigma\": 10,\n",
    "                    \"fp_stabilization\": 400,\n",
    "                    \"phase_dict\": {\n",
    "                        \"trace_p_arrival_sample\": \"P\",\n",
    "                        \"trace_pP_arrival_sample\": \"P\",\n",
    "                        \"trace_P_arrival_sample\": \"P\",\n",
    "                        \"trace_P1_arrival_sample\": \"P\",\n",
    "                        \"trace_Pg_arrival_sample\": \"P\",\n",
    "                        \"trace_Pn_arrival_sample\": \"P\",\n",
    "                        \"trace_PmP_arrival_sample\": \"P\",\n",
    "                        \"trace_pwP_arrival_sample\": \"P\",\n",
    "                        \"trace_pwPm_arrival_sample\": \"P\",\n",
    "                        \"trace_s_arrival_sample\": \"S\",\n",
    "                        \"trace_S_arrival_sample\": \"S\",\n",
    "                        \"trace_S1_arrival_sample\": \"S\",\n",
    "                        \"trace_Sg_arrival_sample\": \"S\",\n",
    "                        \"trace_SmS_arrival_sample\": \"S\",\n",
    "                        \"trace_Sn_arrival_sample\": \"S\"\n",
    "                    },\n",
    "                },\n",
    "                batch_size=BATCH_SIZE,\n",
    "                num_workers=24,\n",
    "                random_seed=RANDOM_SEED,\n",
    ")\n",
    "\n",
    "\n",
    "# --------------->    ACTUAL TRAINING  <---------------\n",
    "\n",
    "train_loss_epochs, dev_loss_epochs = TRAIN_CLASS.train_me(epochs=EPOCHS, optimizer_type=\"adam\", learning_rate=LEARNING_RATE)\n",
    "TRAIN_CLASS.store_weigths(STORE_DIR_MODEL, MODEL_NAME, MODEL_NAME, version=\"1\")\n",
    "\n",
    "# Store TABLE\n",
    "with open(str(STORE_DIR_MODEL / \"TRAIN_TEST_loss.csv\"), \"w\") as OUT:\n",
    "    OUT.write(\"EPOCH, TRAIN_LOSS, TEST_LOSS\"+os.linesep)\n",
    "    for xx, (trn, tst) in enumerate(zip(train_loss_epochs, dev_loss_epochs)):\n",
    "        OUT.write((\"%d, %.4f, %.4f\"+os.linesep) % (xx, trn, tst))"
   ]
  },
  {
   "cell_type": "code",
   "execution_count": 6,
   "id": "4b5b5251-c47a-4e08-ad68-69367faffcfb",
   "metadata": {},
   "outputs": [
    {
     "data": {
      "image/png": "[encoded data removed]",
      "text/plain": [
       "<Figure size 720x504 with 1 Axes>"
      ]
     },
     "metadata": {
      "needs_background": "light"
     },
     "output_type": "display_data"
    }
   ],
   "source": [
    "fig = plt.figure(figsize=(10, 7))\n",
    "plt.plot(train_loss_epochs, label=\"TRAIN_Loss\", color=\"red\", lw=2)\n",
    "plt.plot(dev_loss_epochs, label=\"DEV_Loss\", color=\"teal\", lw=2)\n",
    "plt.xlabel(\"epochs\")\n",
    "plt.ylabel(\"cross-entropy loss\")\n",
    "# plt.ylim([0,0.1])\n",
    "# plt.yscale(\"log\")\n",
    "plt.legend()\n",
    "fig.savefig(str(STORE_DIR_MODEL / \"TrainTest_LOSS.pdf\"))\n",
    "plt.show()"
   ]
  }
 ],
 "metadata": {
  "kernelspec": {
   "display_name": "Python 3 (ipykernel)",
   "language": "python",
   "name": "python3"
  },
  "language_info": {
   "codemirror_mode": {
    "name": "ipython",
    "version": 3
   },
   "file_extension": ".py",
   "mimetype": "text/x-python",
   "name": "python",
   "nbconvert_exporter": "python",
   "pygments_lexer": "ipython3",
   "version": "3.9.12"
  }
 },
 "nbformat": 4,
 "nbformat_minor": 5
}
